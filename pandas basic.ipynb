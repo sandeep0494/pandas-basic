{
 "cells": [
  {
   "cell_type": "code",
   "execution_count": 1,
   "id": "f89cba2f",
   "metadata": {},
   "outputs": [],
   "source": [
    "import pandas as pd\n"
   ]
  },
  {
   "cell_type": "code",
   "execution_count": null,
   "id": "7253f96b",
   "metadata": {},
   "outputs": [],
   "source": [
    "Q1. Create a Pandas Series that contains the following data: 4, 8, 15, 16, 23, and 42. Then, print the series."
   ]
  },
  {
   "cell_type": "code",
   "execution_count": 13,
   "id": "52fbf7fb",
   "metadata": {},
   "outputs": [],
   "source": [
    "df=[4,5,14,15,23,45]\n",
    "series=pd.Series(df)\n",
    "series"
   ]
  },
  {
   "cell_type": "code",
   "execution_count": 17,
   "id": "fbffb35e",
   "metadata": {},
   "outputs": [],
   "source": [
    "Q2. Create a variable of list type containing 10 elements in it, and apply pandas.Series function on the\n",
    "variable print it."
   ]
  },
  {
   "cell_type": "code",
   "execution_count": 56,
   "id": "0f8a1a5b",
   "metadata": {},
   "outputs": [
    {
     "data": {
      "text/plain": [
       "0     1\n",
       "1     2\n",
       "2     3\n",
       "3     4\n",
       "4     5\n",
       "5     6\n",
       "6     7\n",
       "7     8\n",
       "8     9\n",
       "9    10\n",
       "dtype: int64"
      ]
     },
     "execution_count": 56,
     "metadata": {},
     "output_type": "execute_result"
    }
   ],
   "source": [
    "df=[1,2,3,4,5,6,7,8,9,10]\n",
    "series=pd.Series(df)\n",
    "series"
   ]
  },
  {
   "cell_type": "code",
   "execution_count": 20,
   "id": "981cc76e",
   "metadata": {},
   "outputs": [],
   "source": [
    "#Q3. Create a Pandas DataFrame that contains the following data:"
   ]
  },
  {
   "cell_type": "code",
   "execution_count": 57,
   "id": "c1fb0cf3",
   "metadata": {},
   "outputs": [
    {
     "data": {
      "text/html": [
       "<div>\n",
       "<style scoped>\n",
       "    .dataframe tbody tr th:only-of-type {\n",
       "        vertical-align: middle;\n",
       "    }\n",
       "\n",
       "    .dataframe tbody tr th {\n",
       "        vertical-align: top;\n",
       "    }\n",
       "\n",
       "    .dataframe thead th {\n",
       "        text-align: right;\n",
       "    }\n",
       "</style>\n",
       "<table border=\"1\" class=\"dataframe\">\n",
       "  <thead>\n",
       "    <tr style=\"text-align: right;\">\n",
       "      <th></th>\n",
       "      <th>Name</th>\n",
       "      <th>Age</th>\n",
       "      <th>Gender</th>\n",
       "    </tr>\n",
       "  </thead>\n",
       "  <tbody>\n",
       "    <tr>\n",
       "      <th>0</th>\n",
       "      <td>Alice</td>\n",
       "      <td>25</td>\n",
       "      <td>Female</td>\n",
       "    </tr>\n",
       "    <tr>\n",
       "      <th>1</th>\n",
       "      <td>Bob</td>\n",
       "      <td>30</td>\n",
       "      <td>Male</td>\n",
       "    </tr>\n",
       "    <tr>\n",
       "      <th>2</th>\n",
       "      <td>CLaire</td>\n",
       "      <td>27</td>\n",
       "      <td>Female</td>\n",
       "    </tr>\n",
       "  </tbody>\n",
       "</table>\n",
       "</div>"
      ],
      "text/plain": [
       "     Name  Age  Gender\n",
       "0   Alice   25  Female\n",
       "1     Bob   30    Male\n",
       "2  CLaire   27  Female"
      ]
     },
     "execution_count": 57,
     "metadata": {},
     "output_type": "execute_result"
    }
   ],
   "source": [
    "df={'Name':['Alice','Bob','CLaire'], 'Age':[25,30,27], 'Gender':['Female','Male','Female']}\n",
    "df1=pd.DataFrame(df)\n",
    "df1"
   ]
  },
  {
   "cell_type": "code",
   "execution_count": null,
   "id": "0c1ec2b8",
   "metadata": {},
   "outputs": [],
   "source": [
    "Q4:What is ‘DataFrame’ in pandas and how is it different from pandas.series? Explain with an example.\n",
    "    DataFrame:\n",
    "        In pandas, a DataFrame is a two-dimensional, size-mutable, and potentially heterogeneous tabular data structure. \n",
    "        It is the most commonly used data structure in pandas and can be thought of as a table or spreadsheet with rows\n",
    "        and columns, similar to a SQL table or an Excel spreadsheet. Each column in a DataFrame can have a different data type,\n",
    "        which makes it a versatile data structure for handling and analyzing data.\n",
    "\n",
    "On the other hand, a Series is a one-dimensional labeled array capable of holding any data type. \n",
    "It is like a single column in a DataFrame. While a DataFrame is a table of data, a Series is a single column of data with \n",
    "an associated label called an index. You can think of a Series as a special case of a DataFrame where there is only one column."
   ]
  },
  {
   "cell_type": "code",
   "execution_count": 58,
   "id": "b6f572a6",
   "metadata": {},
   "outputs": [
    {
     "name": "stdout",
     "output_type": "stream",
     "text": [
      "DataFrame:\n",
      "      Name  Age\n",
      "0    Alice   25\n",
      "1      Bob   30\n",
      "2  Charlie   35\n",
      "\n",
      "DataFrame info:\n",
      "<class 'pandas.core.frame.DataFrame'>\n",
      "RangeIndex: 3 entries, 0 to 2\n",
      "Data columns (total 2 columns):\n",
      " #   Column  Non-Null Count  Dtype \n",
      "---  ------  --------------  ----- \n",
      " 0   Name    3 non-null      object\n",
      " 1   Age     3 non-null      int64 \n",
      "dtypes: int64(1), object(1)\n",
      "memory usage: 176.0+ bytes\n",
      "None\n",
      "\n",
      "Series:\n",
      "0    25\n",
      "1    30\n",
      "2    35\n",
      "Name: Age, dtype: int64\n"
     ]
    }
   ],
   "source": [
    "import pandas as pd\n",
    "\n",
    "# Creating a DataFrame\n",
    "data = {'Name': ['Alice', 'Bob', 'Charlie'],\n",
    "        'Age': [25, 30, 35]}\n",
    "df = pd.DataFrame(data)\n",
    "\n",
    "# Creating a Series\n",
    "ages = pd.Series([25, 30, 35], name='Age')\n",
    "\n",
    "# Displaying the DataFrame\n",
    "print(\"DataFrame:\")\n",
    "print(df)\n",
    "print(\"\\nDataFrame info:\")\n",
    "print(df.info())\n",
    "\n",
    "# Displaying the Series\n",
    "print(\"\\nSeries:\")\n",
    "print(ages)"
   ]
  },
  {
   "cell_type": "code",
   "execution_count": null,
   "id": "de20715f",
   "metadata": {},
   "outputs": [],
   "source": [
    "Q5. What are some common functions you can use to manipulate data in a Pandas DataFrame? Can\n",
    "you give an example of when you might use one of these functions?"
   ]
  },
  {
   "cell_type": "code",
   "execution_count": null,
   "id": "8d2924f6",
   "metadata": {},
   "outputs": [],
   "source": [
    "Here are some common functions and methods:\n",
    "\n",
    " Filtering and Selection:\n",
    "loc[] and iloc[]: Used to select rows and columns by label and integer location, respectively.\n",
    "Example: df.loc[df['Age'] > 30] selects rows where the 'Age' column is greater than 30.\n",
    "\n",
    " Sorting:\n",
    "sort_values(): Sorts the DataFrame by one or more columns.\n",
    "Example: df.sort_values(by='Age', ascending=False) sorts the DataFrame by the 'Age' column in descending order.\n",
    "\n",
    "  Grouping and Aggregation:\n",
    "groupby(): Groups data based on one or more columns.\n",
    "agg(): Computes aggregate functions on grouped data.\n",
    "Example: df.groupby('Gender')['Salary'].mean() calculates the mean salary for each gender.\n",
    "\n",
    " Merging and Joining:\n",
    "merge(): Combines two DataFrames based on a common column or index.\n",
    "Example: pd.merge(df1, df2, on='ID') merges two DataFrames based on the 'ID' column.\n",
    "\n",
    " Pivoting and Reshaping:\n",
    "pivot(), pivot_table(), melt(), stack(), and unstack(): Used to reshape data between long and wide formats.\n",
    "Example: df.pivot(index='Date', columns='Variable', values='Value') pivots data into a more readable format.\n",
    "\n",
    " Handling Missing Data:\n",
    "dropna(): Removes rows or columns with missing values.\n",
    "fillna(): Fills missing values with specified data.\n",
    "Example: df.dropna() removes rows with any missing values.\n",
    "\n",
    " Creating New Columns:\n",
    "You can create new columns based on existing ones using arithmetic operations, functions, or conditions.\n",
    "Example: df['Total'] = df['Quantity'] * df['Price'] creates a new 'Total' column based on the product of 'Quantity' and 'Price' columns.\n",
    "\n",
    "  Applying Functions:\n",
    "apply(): Applies a function along rows or columns.\n",
    "Example: df['Age'] = df['Age'].apply(lambda x: x + 1) increments the 'Age' of each person by 1.\n",
    "\n",
    " Dropping Columns or Rows:\n",
    "drop(): Removes specified rows or columns.\n",
    "Example: df.drop(columns=['Column1', 'Column2']) drops the specified columns.\n",
    "\n",
    " String Operations:\n",
    "Pandas provides various string methods like str.contains(), str.replace(), and str.split() for string manipulation.\n",
    "Example: df['Title'] = df['Name'].str.split().str.get(0) extracts the first word from the 'Name' column.\n",
    "\n",
    "    Visualization:\n",
    "You can use libraries like Matplotlib or Seaborn to visualize data stored in a DataFrame.\n",
    "Saving Data:\n",
    "\n",
    "to_csv(), to_excel(), and other methods allow you to save the DataFrame to different file formats."
   ]
  },
  {
   "cell_type": "code",
   "execution_count": null,
   "id": "f20b44e5",
   "metadata": {},
   "outputs": [],
   "source": [
    "Q6. Which of the following is mutable in nature Series, DataFrame, Panel?\n",
    "\n",
    "In Python, the term \"mutable\" refers to an object or data structure that can be modified or changed after it is created.\n",
    "This means that you can alter the content, state, or elements of a mutable object without creating a completely new object.\n",
    "Mutable objects contrast with \"immutable\" objects, which cannot be changed once they are created.\n",
    "\n",
    "Series-     one dimensional array   -Size immutable\n",
    "DataFrame-  two dimensional array   -Size mutalbe\n",
    "Panel-      Three Dimensional array -Size mutable"
   ]
  },
  {
   "cell_type": "code",
   "execution_count": null,
   "id": "19b12cef",
   "metadata": {},
   "outputs": [],
   "source": [
    "Q7. Create a DataFrame using multiple Series. Explain with an example."
   ]
  },
  {
   "cell_type": "code",
   "execution_count": 59,
   "id": "e530453f",
   "metadata": {},
   "outputs": [
    {
     "name": "stdout",
     "output_type": "stream",
     "text": [
      "      Name  Age  Score\n",
      "0    Alice   25     95\n",
      "1      Bob   30     88\n",
      "2  Charlie   35     92\n"
     ]
    }
   ],
   "source": [
    "names = pd.Series(['Alice', 'Bob', 'Charlie'])\n",
    "ages = pd.Series([25, 30, 35])\n",
    "scores = pd.Series([95, 88, 92])\n",
    "\n",
    "# Creating a DataFrame from the Series\n",
    "data = {'Name': names, 'Age': ages, 'Score': scores}\n",
    "df = pd.DataFrame(data)\n",
    "\n",
    "# Displaying the DataFrame\n",
    "print(df)"
   ]
  },
  {
   "cell_type": "code",
   "execution_count": null,
   "id": "2d239333",
   "metadata": {},
   "outputs": [],
   "source": []
  }
 ],
 "metadata": {
  "kernelspec": {
   "display_name": "Python 3 (ipykernel)",
   "language": "python",
   "name": "python3"
  },
  "language_info": {
   "codemirror_mode": {
    "name": "ipython",
    "version": 3
   },
   "file_extension": ".py",
   "mimetype": "text/x-python",
   "name": "python",
   "nbconvert_exporter": "python",
   "pygments_lexer": "ipython3",
   "version": "3.9.13"
  }
 },
 "nbformat": 4,
 "nbformat_minor": 5
}
